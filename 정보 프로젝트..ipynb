{
 "cells": [
  {
   "cell_type": "code",
   "execution_count": 19,
   "metadata": {},
   "outputs": [
    {
     "name": "stdout",
     "output_type": "stream",
     "text": [
      "어느 지역의 사고 종류가 궁금하십니까?(예:서울 금천구) :서울 금천구\n",
      "122517\n",
      "022311\n",
      "042716\n",
      "071301\n",
      "090615\n",
      "043017\n",
      "081708\n",
      "022622\n",
      "012211\n",
      "093014\n",
      "092014\n",
      "102706\n",
      "102405\n",
      "090420\n",
      "103013\n",
      "위에 나온 2016년 날짜 중 어느 날의 사고 종류가 궁금하십니까?(예:월 달)1225\n",
      "사고 정보 : 주야, 요일, 사망자수, 사상자수, 중상자수, 경상자수, 사고 유형-대분류, 사고유형, 법규위반, 도로형태\n",
      "[코드] 주야 : 0, 요일 : 1, 사망자수 : 2, 사상자수 : 3, 중상자수 : 4, 경상자수 : 5, 사고유형-대분류 : 6, 사고유형 : 7, 법규위반 : 8, 도로형태 : 9\n",
      "코드를 입력해주십시오3\n",
      "1 명\n"
     ]
    }
   ],
   "source": [
    "import csv\n",
    "f = open ('2016년_사망교통사고.csv')\n",
    "\n",
    "data = csv.reader(f)\n",
    "next(data)\n",
    "data = list(data)\n",
    "data2 = []\n",
    "accidentinformation = [] \n",
    "name = input('어느 지역의 사고 종류가 궁금하십니까?(예:서울 금천구) :')\n",
    "    \n",
    "name1 = name.split()\n",
    "for row in data :\n",
    "    if name1[0] == row[10] and name1[1] == row[11] :\n",
    "        data2.append(row)\n",
    "        year = row[1].split('2016')\n",
    "        print(year[1])\n",
    "\n",
    "date = input('위에 나온 2016년 날짜 중 어느 날의 사고 종류가 궁금하십니까?(예:월 달)')\n",
    "        \n",
    "\n",
    "find = False\n",
    "\n",
    "for row in data2 :\n",
    "    if date in row[1] :\n",
    "        accidentinformation.append(row)\n",
    "        print('사고 정보 : 주야, 요일, 사망자수, 사상자수, 중상자수, 경상자수, 사고 유형-대분류, 사고유형, 법규위반, 도로형태')\n",
    "        find = True\n",
    "if find == False :\n",
    "    print('검색결과가 없습니다') \n",
    "\n",
    "if find == True :\n",
    "    menu = ['주야', '요일', '사망자수', '사상자수', '중상자수', '경상자수', '사고 유형-대분류', '사고유형', '법규위반', '도로형태']\n",
    "    print('[코드] 주야 : 0, 요일 : 1, 사망자수 : 2, 사상자수 : 3, 중상자수 : 4, 경상자수 : 5, 사고유형-대분류 : 6, 사고유형 : 7, 법규위반 : 8, 도로형태 : 9')\n",
    "    code = input('코드를 입력해주십시오')\n",
    "    코드 = {'0' : 3, '1' : 4, '2' : 5, '3' : 6, '4' : 7, '5' : 8, '6' : 12, '7' : 13, '8' : 16, '9' : 18}\n",
    "\n",
    "\n",
    "for row in data :\n",
    "    if name1[0] == row[10] and name1[1] == row[11] and date in row[1] and code == '2' or code == '3' or code == '4' or code == '5' :\n",
    "        print(row[코드[code]],'명')\n",
    "        break\n",
    "    elif name1[0] == row[10] and name1[1] == row[11] and date in row[1] and code == '1' :\n",
    "        print(row[코드[code]],'요일')\n",
    "    elif name1[0] == row[10] and name1[1] == row[11] and date in row[1] :\n",
    "        print(row[코드[code]])"
   ]
  },
  {
   "cell_type": "code",
   "execution_count": null,
   "metadata": {},
   "outputs": [],
   "source": []
  }
 ],
 "metadata": {
  "kernelspec": {
   "display_name": "Python 3",
   "language": "python",
   "name": "python3"
  }
 },
 "nbformat": 4,
 "nbformat_minor": 2
}
